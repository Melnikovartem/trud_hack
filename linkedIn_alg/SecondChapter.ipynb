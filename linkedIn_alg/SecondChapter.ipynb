{
 "cells": [
  {
   "cell_type": "code",
   "execution_count": 1,
   "metadata": {},
   "outputs": [],
   "source": [
    "import ParseFromLinkedin\n",
    "from selenium import webdriver\n",
    "from selenium.webdriver.common.desired_capabilities import DesiredCapabilities\n",
    "from parsel import Selector\n",
    "import time\n",
    "import json\n",
    "from pathlib import Path\n",
    "\n",
    "ParseFromLinkedin.enter()"
   ]
  },
  {
   "cell_type": "code",
   "execution_count": 6,
   "metadata": {},
   "outputs": [
    {
     "name": "stdout",
     "output_type": "stream",
     "text": [
      "fullname\n",
      "Elena (Buraeva) Caymaz\n",
      "about\n",
      "['\\n      Scientific & patent intelligence, Pharma business development, R&D support: discover, protect& commercialize']\n",
      "organisations\n",
      "['Clarivate', 'Moscow State Institute of International Relations (University) MFA Russia (MGIMO']\n",
      "experience\n",
      "['Corporate Account manager, IP& Science', 'Key Account Manager', 'Поддерживайте связь со своими контактами', 'Должность', 'Regional Manager, Russia/CIS, IP Group', 'Должность', 'Head of business development, Corporates, Russia/CIS', 'Должность', 'Corporate Account Manager', 'Должность', 'Business Development Manager', 'Должность']\n",
      "languages\n",
      "['English', 'French', 'Russian', 'GGO Corporate Responsibility & Inclusion Project Manager']\n",
      "skills\n",
      "['Market Research', 'См. 23\\xa0подтверждения для навыка «Market Research»', '23', '7\\xa0коллег участника Elena из компании Clarivate', 'Competitive Intelligence', 'См. 19\\xa0подтверждений для навыка «Competitive Intelligence»', '19', '7\\xa0коллег участника Elena из компании Clarivate', 'Strategic Planning', 'См. 11\\xa0подтверждений для навыка «Strategic Planning»', '11', '5\\xa0коллег участника Elena из компании Clarivate', 'Marketing Strategy', 'См. 9\\xa0подтверждений для навыка «Marketing Strategy»', '9', 'Segmentation', 'См. 8\\xa0подтверждений для навыка «Segmentation»', '8', 'Analysis', 'См. 6\\xa0подтверждений для навыка «Analysis»', '6', 'Pharmaceutical Sales', 'См. 6\\xa0подтверждений для навыка «Pharmaceutical Sales»', '6', 'Sales Effectiveness', 'См. 6\\xa0подтверждений для навыка «Sales Effectiveness»', '6', 'Competitive Analysis', 'См. 6\\xa0подтверждений для навыка «Competitive Analysis»', '6', 'International Marketing', 'См. 5\\xa0подтверждений для навыка «International Marketing»', '5', 'Marketing Management', 'См. 5\\xa0подтверждений для навыка «Marketing Management»', '5', 'Pharmaceutical Industry', 'См. 5\\xa0подтверждений для навыка «Pharmaceutical Industry»', '5', 'Business Intelligence', 'См. 4\\xa0подтверждения для навыка «Business Intelligence»', '4', 'Market Access', 'См. 4\\xa0подтверждения для навыка «Market Access»', '4', 'Business Development', 'См. 4\\xa0подтверждения для навыка «Business Development»', '4', 'Marketing Research', 'См. 3\\xa0подтверждения для навыка «Marketing Research»', '3', 'Product Launch', 'См. 3\\xa0подтверждения для навыка «Product Launch»', '3', 'Consumer Behaviour', 'См. 2\\xa0подтверждения для навыка «Consumer Behaviour»', '2', 'Intellectual Property', 'Account Management', 'Information Technology', 'English', '', '', 'IP management', 'Data Analytics', 'Patent Analysis', 'Pharmaceutical Research', 'Свернуть', 'Показать только основные навыки участника Elena']\n",
      "interests\n",
      "['CompuMark I Trademark Research and Protection', 'Thomson Reuters', 'Harvard Business Review', 'Yandex', 'Onex', 'Tatneft', 'Аэрофлот', 'Russian Railways', 'BIOCAD', 'BIO International Convention', 'Thomson Reuters', 'Global Pharma Professionals attending CPhI events', 'BioWorld, from Clarivate', 'Innovative Drug R&D in Russia', 'Business Objects Professionals', 'Аэрофлот']\n"
     ]
    }
   ],
   "source": [
    "res = ParseFromLinkedin.parse_next_page('elena-caymaz-57b88937')\n",
    "for key in res:\n",
    "    print(key)\n",
    "    print(res[key])"
   ]
  },
  {
   "cell_type": "code",
   "execution_count": null,
   "metadata": {},
   "outputs": [],
   "source": []
  }
 ],
 "metadata": {
  "kernelspec": {
   "display_name": "Python 3",
   "language": "python",
   "name": "python3"
  },
  "language_info": {
   "codemirror_mode": {
    "name": "ipython",
    "version": 3
   },
   "file_extension": ".py",
   "mimetype": "text/x-python",
   "name": "python",
   "nbconvert_exporter": "python",
   "pygments_lexer": "ipython3",
   "version": "3.7.6"
  }
 },
 "nbformat": 4,
 "nbformat_minor": 4
}
