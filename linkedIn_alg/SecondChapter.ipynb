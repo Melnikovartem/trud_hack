{
 "cells": [
  {
   "cell_type": "code",
   "execution_count": 1,
   "metadata": {},
   "outputs": [],
   "source": [
    "import ParseFromLinkedin\n",
    "from selenium import webdriver\n",
    "from selenium.webdriver.common.desired_capabilities import DesiredCapabilities\n",
    "from parsel import Selector\n",
    "import time\n",
    "import json\n",
    "from pathlib import Path\n",
    "\n",
    "ParseFromLinkedin.enter()"
   ]
  },
  {
   "cell_type": "code",
   "execution_count": 5,
   "metadata": {},
   "outputs": [
    {
     "name": "stdout",
     "output_type": "stream",
     "text": [
      "{'fullname': 'Иван Муравьев', 'about': [], 'organisations': ['СТС'], 'experience': ['Менеджер'], 'languages': [], 'skills': [], 'interests': []}\n"
     ]
    }
   ],
   "source": [
    "res = []\n",
    "print(ParseFromLinkedin.parse_next_page('%D0%B8%D0%B2%D0%B0%D0%BD-%D0%BC%D1%83%D1%80%D0%B0%D0%B2%D1%8C%D0%B5%D0%B2-21b1a98b'))"
   ]
  }
 ],
 "metadata": {
  "kernelspec": {
   "display_name": "Python 3",
   "language": "python",
   "name": "python3"
  },
  "language_info": {
   "codemirror_mode": {
    "name": "ipython",
    "version": 3
   },
   "file_extension": ".py",
   "mimetype": "text/x-python",
   "name": "python",
   "nbconvert_exporter": "python",
   "pygments_lexer": "ipython3",
   "version": "3.7.6"
  }
 },
 "nbformat": 4,
 "nbformat_minor": 4
}
