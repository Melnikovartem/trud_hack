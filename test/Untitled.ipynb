{
 "cells": [
  {
   "cell_type": "code",
   "execution_count": 6,
   "metadata": {},
   "outputs": [],
   "source": [
    "import pickle\n",
    "import math\n",
    "\n",
    "a = [1, 2, [1, 1, 1]]\n",
    "b = [2, 3, 'ada']\n",
    "c = ['hehe', 'haha']\n",
    "file_1 = open('data1', 'wb')\n",
    "pickle.dump(a, file_1)\n",
    "file_1 = open('data2', 'wb')\n",
    "pickle.dump(b, file_1)\n",
    "file_1 = open('data3', 'wb')\n",
    "pickle.dump(c, file_1)"
   ]
  },
  {
   "cell_type": "code",
   "execution_count": 7,
   "metadata": {},
   "outputs": [],
   "source": [
    "file_1 = open('data1', 'rb')\n",
    "temp1 = pickle.load(file_1)\n",
    "file_1 = open('data2', 'rb')\n",
    "temp2 = pickle.load(file_1)\n",
    "file_1 = open('data3', 'rb')\n",
    "temp3 = pickle.load(file_1)"
   ]
  },
  {
   "cell_type": "code",
   "execution_count": 8,
   "metadata": {},
   "outputs": [
    {
     "name": "stdout",
     "output_type": "stream",
     "text": [
      "[1, 2, [1, 1, 1]]\n",
      "[2, 3, 'ada']\n",
      "['hehe', 'haha']\n"
     ]
    }
   ],
   "source": [
    "print(temp1)\n",
    "print(temp2)\n",
    "print(temp3)"
   ]
  },
  {
   "cell_type": "code",
   "execution_count": 9,
   "metadata": {},
   "outputs": [
    {
     "name": "stdout",
     "output_type": "stream",
     "text": [
      "[{'1': 1, '2': 2}, 31]\n"
     ]
    }
   ],
   "source": [
    "a = {}\n",
    "a['1'] = 1\n",
    "a['2'] = 2\n",
    "b = 31\n",
    "c = []\n",
    "c.append(a)\n",
    "c.append(b)\n",
    "print(c)"
   ]
  },
  {
   "cell_type": "code",
   "execution_count": 18,
   "metadata": {},
   "outputs": [
    {
     "name": "stdout",
     "output_type": "stream",
     "text": [
      "4.0\n"
     ]
    }
   ],
   "source": [
    "print(math.log10(10000))"
   ]
  },
  {
   "cell_type": "code",
   "execution_count": null,
   "metadata": {},
   "outputs": [],
   "source": []
  }
 ],
 "metadata": {
  "kernelspec": {
   "display_name": "Python 3",
   "language": "python",
   "name": "python3"
  },
  "language_info": {
   "codemirror_mode": {
    "name": "ipython",
    "version": 3
   },
   "file_extension": ".py",
   "mimetype": "text/x-python",
   "name": "python",
   "nbconvert_exporter": "python",
   "pygments_lexer": "ipython3",
   "version": "3.7.6"
  }
 },
 "nbformat": 4,
 "nbformat_minor": 4
}
